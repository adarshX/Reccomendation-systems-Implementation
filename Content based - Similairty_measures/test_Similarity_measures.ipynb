{
  "nbformat": 4,
  "nbformat_minor": 0,
  "metadata": {
    "colab": {
      "name": "test-Similarity measures.ipynb",
      "provenance": []
    },
    "kernelspec": {
      "name": "python3",
      "display_name": "Python 3"
    }
  },
  "cells": [
    {
      "cell_type": "code",
      "metadata": {
        "id": "5DFtM9z_grY8"
      },
      "source": [
        "import numpy as np\n",
        "from numpy.linalg import norm\n",
        "from sklearn.metrics.pairwise import cosine_similarity\n",
        "from sklearn.preprocessing import normalize"
      ],
      "execution_count": 54,
      "outputs": []
    },
    {
      "cell_type": "markdown",
      "metadata": {
        "id": "bvwCynq7phaY"
      },
      "source": [
        "## Data (toy dataset)"
      ]
    },
    {
      "cell_type": "code",
      "metadata": {
        "id": "X3jkUpxugwxr",
        "outputId": "357c9b2d-1dec-4051-d7d3-23259a4e9e10",
        "colab": {
          "base_uri": "https://localhost:8080/",
          "height": 35
        }
      },
      "source": [
        "F = [\n",
        "    [0 , 0 , 1,0,1],\n",
        "    [0 , 0,0, 1, 0],\n",
        "    [1 , 0 , 0 , 0 ,1],\n",
        "    [1,1, 0 , 0 ,  1],\n",
        "    [1 , 1,0,1,0 ],\n",
        "    [0,1,1,0,1],\n",
        "    [0,0,0,1,0]\n",
        "]\n",
        "FM = np.asarray(F)\n",
        "rat = [ 7 , 4 , 10 , 0 , 0 ,  0 , 0]\n",
        "sh = FM.shape\n",
        "sh"
      ],
      "execution_count": 6,
      "outputs": [
        {
          "output_type": "execute_result",
          "data": {
            "text/plain": [
              "(7, 5)"
            ]
          },
          "metadata": {
            "tags": []
          },
          "execution_count": 6
        }
      ]
    },
    {
      "cell_type": "markdown",
      "metadata": {
        "id": "ZoBhiK1mpnFs"
      },
      "source": [
        "## my method"
      ]
    },
    {
      "cell_type": "code",
      "metadata": {
        "id": "oisSLZGAhlUh",
        "outputId": "bc75e6b5-a660-4c68-a0c0-a424cd430d99",
        "colab": {
          "base_uri": "https://localhost:8080/",
          "height": 71
        }
      },
      "source": [
        "sim_mat = np.zeros((sh[0] , sh[0]) , dtype = np.float16)\n",
        "\n",
        "for i in range(0,sh[0]):\n",
        "  for j in range(0,sh[0]):\n",
        "    a = FM[i]\n",
        "    b = FM[j]\n",
        "    sim = np.dot(a,b) / (norm(a) * norm(b))\n",
        "    sim_mat[i][j] = sim\n",
        "\n",
        "#print(sim_mat)\n",
        "#print(\"--------------------------------------------------------\")\n",
        "cos_sim = cosine_similarity(FM,FM) #skelarn\n",
        "#print(cos_sim)\n",
        "\n",
        "sort_sim = np.zeros((sh[0] , sh[0]) , dtype = np.float16)\n",
        "for  i in range(0,sh[0]):\n",
        "  sort_sim[i] = np.argsort(cos_sim[i] , axis = 0)\n",
        "  \n",
        "sort_sim\n",
        "\n",
        "guess_rat = np.zeros((sh[0] , sh[0])  , dtype = np.float16)\n",
        "for  i in range(0,sh[0]):\n",
        "  if rat[i] != 0 :\n",
        "    r = np.zeros((sh[0]))\n",
        "    for j in range(0,sh[0]):\n",
        "      r[j] = rat[i] * cos_sim[i][j]\n",
        "    guess_rat[i] = r\n",
        "    #print( i , guess_rat[i])\n",
        "\n",
        "\n",
        "final_rat = np.amax(guess_rat , axis=0)  \n",
        "\n",
        "print(\"\\n final guessed ratings : \" ,final_rat)\n",
        "order = 4 + np.flip(np.argsort(final_rat[3:]))\n",
        "print(\"reccomendation order(no's are movies) : \" , order)"
      ],
      "execution_count": 89,
      "outputs": [
        {
          "output_type": "stream",
          "text": [
            "\n",
            " final guessed ratings :  [ 7.     4.    10.     8.164  4.082  5.715  4.   ]\n",
            "reccomendation order(no's are movies) :  [4 6 5 7]\n"
          ],
          "name": "stdout"
        }
      ]
    },
    {
      "cell_type": "markdown",
      "metadata": {
        "id": "adikh4aUp1fM"
      },
      "source": [
        "## Other method"
      ]
    },
    {
      "cell_type": "code",
      "metadata": {
        "id": "w1DQV4Lbp3or",
        "outputId": "ffa3c387-692a-4442-ac8a-f912927bff99",
        "colab": {
          "base_uri": "https://localhost:8080/",
          "height": 71
        }
      },
      "source": [
        "feature_sim = np.asarray(np.matmul(rat[0:3] , FM[0:3 , :]))\n",
        "#print(feature_sim)\n",
        "feature_sim = feature_sim  / norm(feature_sim)  #L2 norm\n",
        "print(\"features similaity score :\" ,feature_sim)\n",
        "\n",
        "reccom_sim = np.dot(feature_sim , FM[3:7 , :].T)\n",
        "print(\"reccom movie score :  \" , reccom_sim)\n",
        "\n",
        "order_rec = 4 + np.flip(np.argsort(reccom_sim))\n",
        "print(\"reccomendation order(no's are movies) : \" , order_rec)"
      ],
      "execution_count": 88,
      "outputs": [
        {
          "output_type": "stream",
          "text": [
            "features similaity score : [0.46932325 0.         0.32852628 0.1877293  0.79784953]\n",
            "reccom movie score :   [1.26717279 0.65705256 1.12637581 0.1877293 ]\n",
            "reccomendation order(no's are movies) :  [4 6 5 7]\n"
          ],
          "name": "stdout"
        }
      ]
    }
  ]
}