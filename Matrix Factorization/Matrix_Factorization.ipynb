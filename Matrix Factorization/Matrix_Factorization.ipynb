{
  "nbformat": 4,
  "nbformat_minor": 0,
  "metadata": {
    "colab": {
      "name": "Matrix-Factorization.ipynb",
      "provenance": []
    },
    "kernelspec": {
      "name": "python3",
      "display_name": "Python 3"
    }
  },
  "cells": [
    {
      "cell_type": "markdown",
      "metadata": {
        "id": "oAMnGXL01myU",
        "colab_type": "text"
      },
      "source": [
        "**Recommendation system based on Matrix Factorization** \n",
        "* Dataset link : https://www.kaggle.com/rounakbanik/the-movies-dataset"
      ]
    },
    {
      "cell_type": "markdown",
      "metadata": {
        "id": "SApqlWL4171Z",
        "colab_type": "text"
      },
      "source": [
        "# Libraries and data"
      ]
    },
    {
      "cell_type": "code",
      "metadata": {
        "id": "9oam1t2R1lCn",
        "colab_type": "code",
        "colab": {}
      },
      "source": [
        "import numpy as np\n",
        "import sklearn\n",
        "import pandas as pd\n",
        "from sklearn import preprocessing \n",
        "from sklearn.model_selection import KFold\n",
        "from sklearn.model_selection import train_test_split"
      ],
      "execution_count": 2,
      "outputs": []
    },
    {
      "cell_type": "code",
      "metadata": {
        "id": "3pncELAN1usG",
        "colab_type": "code",
        "colab": {
          "base_uri": "https://localhost:8080/",
          "height": 0
        },
        "outputId": "d28f2d36-5d09-4b5f-c0ff-a0fafb7ae238"
      },
      "source": [
        "## mini imdb dataset (from kaggle)\n",
        "file_path = '/content/drive/My Drive/Colab Notebooks/Recommendation systems/Data/movies dataset (huge)/ratings_small.csv'\n",
        "#file_path = '/Data/ratings.csv'\n",
        "df = pd.read_csv(file_path)  #, error_bad_lines=False ,warn_bad_lines=False)\n",
        "print(\"Rows and columns : \" , df.shape)"
      ],
      "execution_count": 3,
      "outputs": [
        {
          "output_type": "stream",
          "text": [
            "Rows and columns :  (100004, 4)\n"
          ],
          "name": "stdout"
        }
      ]
    },
    {
      "cell_type": "code",
      "metadata": {
        "id": "hZXf6-Qt2qlQ",
        "colab_type": "code",
        "colab": {
          "base_uri": "https://localhost:8080/",
          "height": 0
        },
        "outputId": "847e12a9-a476-4757-eccc-ebd67b5fdbfb"
      },
      "source": [
        "df.head()"
      ],
      "execution_count": 4,
      "outputs": [
        {
          "output_type": "execute_result",
          "data": {
            "text/html": [
              "<div>\n",
              "<style scoped>\n",
              "    .dataframe tbody tr th:only-of-type {\n",
              "        vertical-align: middle;\n",
              "    }\n",
              "\n",
              "    .dataframe tbody tr th {\n",
              "        vertical-align: top;\n",
              "    }\n",
              "\n",
              "    .dataframe thead th {\n",
              "        text-align: right;\n",
              "    }\n",
              "</style>\n",
              "<table border=\"1\" class=\"dataframe\">\n",
              "  <thead>\n",
              "    <tr style=\"text-align: right;\">\n",
              "      <th></th>\n",
              "      <th>userId</th>\n",
              "      <th>movieId</th>\n",
              "      <th>rating</th>\n",
              "      <th>timestamp</th>\n",
              "    </tr>\n",
              "  </thead>\n",
              "  <tbody>\n",
              "    <tr>\n",
              "      <th>0</th>\n",
              "      <td>1</td>\n",
              "      <td>31</td>\n",
              "      <td>2.5</td>\n",
              "      <td>1260759144</td>\n",
              "    </tr>\n",
              "    <tr>\n",
              "      <th>1</th>\n",
              "      <td>1</td>\n",
              "      <td>1029</td>\n",
              "      <td>3.0</td>\n",
              "      <td>1260759179</td>\n",
              "    </tr>\n",
              "    <tr>\n",
              "      <th>2</th>\n",
              "      <td>1</td>\n",
              "      <td>1061</td>\n",
              "      <td>3.0</td>\n",
              "      <td>1260759182</td>\n",
              "    </tr>\n",
              "    <tr>\n",
              "      <th>3</th>\n",
              "      <td>1</td>\n",
              "      <td>1129</td>\n",
              "      <td>2.0</td>\n",
              "      <td>1260759185</td>\n",
              "    </tr>\n",
              "    <tr>\n",
              "      <th>4</th>\n",
              "      <td>1</td>\n",
              "      <td>1172</td>\n",
              "      <td>4.0</td>\n",
              "      <td>1260759205</td>\n",
              "    </tr>\n",
              "  </tbody>\n",
              "</table>\n",
              "</div>"
            ],
            "text/plain": [
              "   userId  movieId  rating   timestamp\n",
              "0       1       31     2.5  1260759144\n",
              "1       1     1029     3.0  1260759179\n",
              "2       1     1061     3.0  1260759182\n",
              "3       1     1129     2.0  1260759185\n",
              "4       1     1172     4.0  1260759205"
            ]
          },
          "metadata": {
            "tags": []
          },
          "execution_count": 4
        }
      ]
    },
    {
      "cell_type": "markdown",
      "metadata": {
        "id": "OvaXF5of3Aif",
        "colab_type": "text"
      },
      "source": [
        "# Data preprocessing"
      ]
    },
    {
      "cell_type": "code",
      "metadata": {
        "id": "bQ6EskPq2Ck8",
        "colab_type": "code",
        "colab": {
          "base_uri": "https://localhost:8080/",
          "height": 269
        },
        "outputId": "94a1546c-8c04-4183-c1d8-0d61a38c2fb7"
      },
      "source": [
        "data = df[['userId' , 'movieId','rating']]\n",
        "print(data)\n",
        "X = df[['userId' , 'movieId']]\n",
        "y = df['rating']"
      ],
      "execution_count": 5,
      "outputs": [
        {
          "output_type": "stream",
          "text": [
            "        userId  movieId  rating\n",
            "0            1       31     2.5\n",
            "1            1     1029     3.0\n",
            "2            1     1061     3.0\n",
            "3            1     1129     2.0\n",
            "4            1     1172     4.0\n",
            "...        ...      ...     ...\n",
            "99999      671     6268     2.5\n",
            "100000     671     6269     4.0\n",
            "100001     671     6365     4.0\n",
            "100002     671     6385     2.5\n",
            "100003     671     6565     3.5\n",
            "\n",
            "[100004 rows x 3 columns]\n"
          ],
          "name": "stdout"
        }
      ]
    },
    {
      "cell_type": "code",
      "metadata": {
        "id": "U3qt53Sh4RkI",
        "colab_type": "code",
        "colab": {}
      },
      "source": [
        "# train test split\n",
        "X_train ,X_test , y_train , y_test = train_test_split(X,y)"
      ],
      "execution_count": 11,
      "outputs": []
    },
    {
      "cell_type": "code",
      "metadata": {
        "id": "cXy91xgO5_V3",
        "colab_type": "code",
        "colab": {
          "base_uri": "https://localhost:8080/",
          "height": 35
        },
        "outputId": "fbe39c06-7362-4ccc-93d2-f84644f390a2"
      },
      "source": [
        "X_test.shape"
      ],
      "execution_count": 12,
      "outputs": [
        {
          "output_type": "execute_result",
          "data": {
            "text/plain": [
              "(25001, 2)"
            ]
          },
          "metadata": {
            "tags": []
          },
          "execution_count": 12
        }
      ]
    },
    {
      "cell_type": "markdown",
      "metadata": {
        "id": "lgXQ2EaL5gFl",
        "colab_type": "text"
      },
      "source": [
        "# SVD"
      ]
    },
    {
      "cell_type": "code",
      "metadata": {
        "id": "TdlcuaAT5IzR",
        "colab_type": "code",
        "colab": {}
      },
      "source": [
        "u, s, vh = np.linalg.svd(X_test, full_matrices=True)"
      ],
      "execution_count": 13,
      "outputs": []
    },
    {
      "cell_type": "code",
      "metadata": {
        "id": "_HOrxdvX6NYg",
        "colab_type": "code",
        "colab": {
          "base_uri": "https://localhost:8080/",
          "height": 53
        },
        "outputId": "0baba4e0-099d-4035-c546-6f5e3c15a22c"
      },
      "source": [
        "vh"
      ],
      "execution_count": 16,
      "outputs": [
        {
          "output_type": "execute_result",
          "data": {
            "text/plain": [
              "array([[ 0.00516578,  0.99998666],\n",
              "       [ 0.99998666, -0.00516578]])"
            ]
          },
          "metadata": {
            "tags": []
          },
          "execution_count": 16
        }
      ]
    },
    {
      "cell_type": "markdown",
      "metadata": {
        "id": "igZ6uqhJ6rew",
        "colab_type": "text"
      },
      "source": [
        "# Matrix Factorization"
      ]
    },
    {
      "cell_type": "code",
      "metadata": {
        "id": "CSjDBY3d6uWn",
        "colab_type": "code",
        "colab": {}
      },
      "source": [
        ""
      ],
      "execution_count": null,
      "outputs": []
    }
  ]
}