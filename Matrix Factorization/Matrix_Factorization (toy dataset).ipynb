{
  "nbformat": 4,
  "nbformat_minor": 0,
  "metadata": {
    "colab": {
      "name": "Matrix Factorization (toy dataset) .ipynb",
      "provenance": []
    },
    "kernelspec": {
      "name": "python3",
      "display_name": "Python 3"
    }
  },
  "cells": [
    {
      "cell_type": "code",
      "metadata": {
        "id": "XwKXoDQ4zN5l"
      },
      "source": [
        "import numpy as np\n",
        "import sklearn\n",
        "import pandas as pd\n",
        "from sklearn import preprocessing \n",
        "from sklearn.model_selection import KFold\n",
        "from sklearn.model_selection import train_test_split\n",
        "import progressbar as pb\n",
        "import random\n",
        "import numpy\n",
        "from matplotlib import pyplot as plt\n",
        "\n",
        "np.random.seed(0)"
      ],
      "execution_count": 33,
      "outputs": []
    },
    {
      "cell_type": "code",
      "metadata": {
        "id": "WyP7XKwdzds6"
      },
      "source": [
        "def MF(R, P, Q, K, steps,alpha, beta):\n",
        " Q = Q.T\n",
        " for step in pb.progressbar(range(steps)):\n",
        "   for i in range(len(R)):\n",
        "     for j in range(len(R[i])):\n",
        "       if R[i][j] > 0:\n",
        "         eij = R[i][j] - numpy.dot(P[i,:],Q[:,j])\n",
        "         for k in range(K):\n",
        "           P[i][k] = P[i][k] + alpha * (2 * eij * Q[k][j] - beta * P[i][k])\n",
        "           Q[k][j] = Q[k][j] + alpha * (2 * eij * P[i][k] - beta * Q[k][j])\n",
        "     eR = numpy.dot(P,Q)\n",
        "     e = 0\n",
        "     for i in range(len(R)):\n",
        "       for j in range(len(R[i])):\n",
        "         if R[i][j] > 0:\n",
        "           e = e + pow(R[i][j] - numpy.dot(P[i,:],Q[:,j]), 2)\n",
        "           for k in range(K):\n",
        "             e = e + (beta/2) * (pow(P[i][k],2) + pow(Q[k][j],2))\n",
        "   if e < 0.001:\n",
        "     break\n",
        " return P, Q.T"
      ],
      "execution_count": 9,
      "outputs": []
    },
    {
      "cell_type": "code",
      "metadata": {
        "id": "SDBS8bRvzmpv"
      },
      "source": [
        "#hyperparametrs\n",
        "K = 2\n",
        "steps = 1000\n",
        "alpha = 0.002\n",
        "beta = 0.02"
      ],
      "execution_count": 30,
      "outputs": []
    },
    {
      "cell_type": "code",
      "metadata": {
        "id": "sTdoEf40z2an",
        "outputId": "4b216b55-d6b0-4801-90b5-95ed8ef7ff5e",
        "colab": {
          "base_uri": "https://localhost:8080/"
        }
      },
      "source": [
        "\n",
        "## on toy dataset\n",
        "R = [\n",
        "     [5,3,0,1],\n",
        "     [4,0,0,1],\n",
        "     [1,1,0,5],\n",
        "     [1,0,0,4],\n",
        "     [0,1,5,4],\n",
        "    ]\n",
        "\n",
        "R = numpy.array(R)\n",
        "N = len(R)\n",
        "M = len(R[0])\n",
        "K = 2\n",
        "\n",
        "P = numpy.random.rand(N,K)\n",
        "Q = numpy.random.rand(M,K)\n",
        "\n",
        "nP, nQ = MF(R, P, Q, K , steps , alpha , beta)\n",
        "nR = numpy.dot(nP, nQ.T)\n",
        "nR"
      ],
      "execution_count": 36,
      "outputs": [
        {
          "output_type": "stream",
          "text": [
            "100% (1000 of 1000) |####################| Elapsed Time: 0:00:01 Time:  0:00:01\n"
          ],
          "name": "stderr"
        },
        {
          "output_type": "execute_result",
          "data": {
            "text/plain": [
              "array([[4.9779513 , 2.97859337, 4.74583436, 1.00204633],\n",
              "       [3.98047138, 2.39604136, 3.99307506, 1.00075232],\n",
              "       [1.01942302, 0.95146311, 5.70599667, 4.97004267],\n",
              "       [0.99066616, 0.86376132, 4.7012856 , 3.98061557],\n",
              "       [1.31942396, 1.05719114, 4.96917543, 4.00095961]])"
            ]
          },
          "metadata": {
            "tags": []
          },
          "execution_count": 36
        }
      ]
    },
    {
      "cell_type": "code",
      "metadata": {
        "id": "pt8f1pbzz-Hn",
        "outputId": "7cfe3579-8306-4356-9d6a-a731738270b9",
        "colab": {
          "base_uri": "https://localhost:8080/"
        }
      },
      "source": [
        "## rmse on toy dataset (A : Orginal , B : estimated)\n",
        "def rmse( A , B ):\n",
        "  count = 0\n",
        "  E = 0\n",
        "  sh = A.shape\n",
        "  for i in range(0,sh[0]) :\n",
        "    for j in range(0,sh[1]) : \n",
        "      if (A[i][j] != 0 ) :\n",
        "        E +=  ( A[i][j] - B[i][j] ) ** 2\n",
        "        count += 1\n",
        "  \n",
        "  rmse = (E/count)**0.5\n",
        "  print(\"rmse on toy dataset : \" , rmse)\n",
        "\n",
        "rmse(R,nR)"
      ],
      "execution_count": 44,
      "outputs": [
        {
          "output_type": "stream",
          "text": [
            "rmse on toy dataset :  0.02723941099193427\n"
          ],
          "name": "stdout"
        }
      ]
    }
  ]
}