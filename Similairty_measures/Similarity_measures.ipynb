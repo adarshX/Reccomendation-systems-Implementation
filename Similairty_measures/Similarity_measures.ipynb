{
  "nbformat": 4,
  "nbformat_minor": 0,
  "metadata": {
    "colab": {
      "name": "Similarity measures.ipynb",
      "provenance": [],
      "collapsed_sections": []
    },
    "kernelspec": {
      "name": "python3",
      "display_name": "Python 3"
    }
  },
  "cells": [
    {
      "cell_type": "markdown",
      "metadata": {
        "id": "7WZ9cT6Cq-Vo",
        "colab_type": "text"
      },
      "source": [
        "**Recommendation system based on Similairty Measures** \n",
        "* Dataset link : https://www.kaggle.com/orgesleka/imdbmovies"
      ]
    },
    {
      "cell_type": "markdown",
      "metadata": {
        "id": "ZYXzaMPZrKbT",
        "colab_type": "text"
      },
      "source": [
        "# Libraries and data"
      ]
    },
    {
      "cell_type": "code",
      "metadata": {
        "id": "cDMDK9LFqVhW",
        "colab_type": "code",
        "colab": {}
      },
      "source": [
        "import numpy as np\n",
        "import sklearn\n",
        "import pandas as pd\n",
        "from numpy.linalg import norm\n",
        "from sklearn.metrics.pairwise import linear_kernel\n",
        "from sklearn.metrics.pairwise import cosine_similarity"
      ],
      "execution_count": 81,
      "outputs": []
    },
    {
      "cell_type": "code",
      "metadata": {
        "id": "BfLzyfLhq8rR",
        "colab_type": "code",
        "colab": {
          "base_uri": "https://localhost:8080/",
          "height": 35
        },
        "outputId": "0276e0db-1f36-4c79-de5b-1713441b1125"
      },
      "source": [
        "## mini imdb dataset (from kaggle)\n",
        "#file_path = '/content/drive/My Drive/Colab Notebooks/Recommendation systems/Data/imdb.csv'\n",
        "file_path = '/Data/imdb.csv'\n",
        "df = pd.read_csv(file_path , error_bad_lines=False ,warn_bad_lines=False)\n",
        "print(\"Rows and columns : \" , df.shape)\n"
      ],
      "execution_count": 106,
      "outputs": [
        {
          "output_type": "stream",
          "text": [
            "Rows and columns :  (14332, 44)\n"
          ],
          "name": "stdout"
        }
      ]
    },
    {
      "cell_type": "code",
      "metadata": {
        "id": "IiKmry-_soKk",
        "colab_type": "code",
        "colab": {
          "base_uri": "https://localhost:8080/",
          "height": 394
        },
        "outputId": "11e29f81-8da6-491a-d2ac-885dcd6fb0f0"
      },
      "source": [
        "df.head()"
      ],
      "execution_count": 83,
      "outputs": [
        {
          "output_type": "execute_result",
          "data": {
            "text/html": [
              "<div>\n",
              "<style scoped>\n",
              "    .dataframe tbody tr th:only-of-type {\n",
              "        vertical-align: middle;\n",
              "    }\n",
              "\n",
              "    .dataframe tbody tr th {\n",
              "        vertical-align: top;\n",
              "    }\n",
              "\n",
              "    .dataframe thead th {\n",
              "        text-align: right;\n",
              "    }\n",
              "</style>\n",
              "<table border=\"1\" class=\"dataframe\">\n",
              "  <thead>\n",
              "    <tr style=\"text-align: right;\">\n",
              "      <th></th>\n",
              "      <th>fn</th>\n",
              "      <th>tid</th>\n",
              "      <th>title</th>\n",
              "      <th>wordsInTitle</th>\n",
              "      <th>url</th>\n",
              "      <th>imdbRating</th>\n",
              "      <th>ratingCount</th>\n",
              "      <th>duration</th>\n",
              "      <th>year</th>\n",
              "      <th>type</th>\n",
              "      <th>nrOfWins</th>\n",
              "      <th>nrOfNominations</th>\n",
              "      <th>nrOfPhotos</th>\n",
              "      <th>nrOfNewsArticles</th>\n",
              "      <th>nrOfUserReviews</th>\n",
              "      <th>nrOfGenre</th>\n",
              "      <th>Action</th>\n",
              "      <th>Adult</th>\n",
              "      <th>Adventure</th>\n",
              "      <th>Animation</th>\n",
              "      <th>Biography</th>\n",
              "      <th>Comedy</th>\n",
              "      <th>Crime</th>\n",
              "      <th>Documentary</th>\n",
              "      <th>Drama</th>\n",
              "      <th>Family</th>\n",
              "      <th>Fantasy</th>\n",
              "      <th>FilmNoir</th>\n",
              "      <th>GameShow</th>\n",
              "      <th>History</th>\n",
              "      <th>Horror</th>\n",
              "      <th>Music</th>\n",
              "      <th>Musical</th>\n",
              "      <th>Mystery</th>\n",
              "      <th>News</th>\n",
              "      <th>RealityTV</th>\n",
              "      <th>Romance</th>\n",
              "      <th>SciFi</th>\n",
              "      <th>Short</th>\n",
              "      <th>Sport</th>\n",
              "      <th>TalkShow</th>\n",
              "      <th>Thriller</th>\n",
              "      <th>War</th>\n",
              "      <th>Western</th>\n",
              "    </tr>\n",
              "  </thead>\n",
              "  <tbody>\n",
              "    <tr>\n",
              "      <th>0</th>\n",
              "      <td>titles01/tt0012349</td>\n",
              "      <td>tt0012349</td>\n",
              "      <td>Der Vagabund und das Kind (1921)</td>\n",
              "      <td>der vagabund und das kind</td>\n",
              "      <td>http://www.imdb.com/title/tt0012349/</td>\n",
              "      <td>8.4</td>\n",
              "      <td>40550.0</td>\n",
              "      <td>3240.0</td>\n",
              "      <td>1921.0</td>\n",
              "      <td>video.movie</td>\n",
              "      <td>1</td>\n",
              "      <td>0</td>\n",
              "      <td>19</td>\n",
              "      <td>96</td>\n",
              "      <td>85</td>\n",
              "      <td>3</td>\n",
              "      <td>0</td>\n",
              "      <td>0</td>\n",
              "      <td>0</td>\n",
              "      <td>0</td>\n",
              "      <td>0</td>\n",
              "      <td>1</td>\n",
              "      <td>0</td>\n",
              "      <td>0</td>\n",
              "      <td>1</td>\n",
              "      <td>1</td>\n",
              "      <td>0</td>\n",
              "      <td>0</td>\n",
              "      <td>0</td>\n",
              "      <td>0</td>\n",
              "      <td>0</td>\n",
              "      <td>0</td>\n",
              "      <td>0</td>\n",
              "      <td>0</td>\n",
              "      <td>0</td>\n",
              "      <td>0</td>\n",
              "      <td>0</td>\n",
              "      <td>0</td>\n",
              "      <td>0</td>\n",
              "      <td>0</td>\n",
              "      <td>0</td>\n",
              "      <td>0</td>\n",
              "      <td>0</td>\n",
              "      <td>0</td>\n",
              "    </tr>\n",
              "    <tr>\n",
              "      <th>1</th>\n",
              "      <td>titles01/tt0015864</td>\n",
              "      <td>tt0015864</td>\n",
              "      <td>Goldrausch (1925)</td>\n",
              "      <td>goldrausch</td>\n",
              "      <td>http://www.imdb.com/title/tt0015864/</td>\n",
              "      <td>8.3</td>\n",
              "      <td>45319.0</td>\n",
              "      <td>5700.0</td>\n",
              "      <td>1925.0</td>\n",
              "      <td>video.movie</td>\n",
              "      <td>2</td>\n",
              "      <td>1</td>\n",
              "      <td>35</td>\n",
              "      <td>110</td>\n",
              "      <td>122</td>\n",
              "      <td>3</td>\n",
              "      <td>0</td>\n",
              "      <td>0</td>\n",
              "      <td>1</td>\n",
              "      <td>0</td>\n",
              "      <td>0</td>\n",
              "      <td>1</td>\n",
              "      <td>0</td>\n",
              "      <td>0</td>\n",
              "      <td>0</td>\n",
              "      <td>1</td>\n",
              "      <td>0</td>\n",
              "      <td>0</td>\n",
              "      <td>0</td>\n",
              "      <td>0</td>\n",
              "      <td>0</td>\n",
              "      <td>0</td>\n",
              "      <td>0</td>\n",
              "      <td>0</td>\n",
              "      <td>0</td>\n",
              "      <td>0</td>\n",
              "      <td>0</td>\n",
              "      <td>0</td>\n",
              "      <td>0</td>\n",
              "      <td>0</td>\n",
              "      <td>0</td>\n",
              "      <td>0</td>\n",
              "      <td>0</td>\n",
              "      <td>0</td>\n",
              "    </tr>\n",
              "    <tr>\n",
              "      <th>2</th>\n",
              "      <td>titles01/tt0017136</td>\n",
              "      <td>tt0017136</td>\n",
              "      <td>Metropolis (1927)</td>\n",
              "      <td>metropolis</td>\n",
              "      <td>http://www.imdb.com/title/tt0017136/</td>\n",
              "      <td>8.4</td>\n",
              "      <td>81007.0</td>\n",
              "      <td>9180.0</td>\n",
              "      <td>1927.0</td>\n",
              "      <td>video.movie</td>\n",
              "      <td>3</td>\n",
              "      <td>4</td>\n",
              "      <td>67</td>\n",
              "      <td>428</td>\n",
              "      <td>376</td>\n",
              "      <td>2</td>\n",
              "      <td>0</td>\n",
              "      <td>0</td>\n",
              "      <td>0</td>\n",
              "      <td>0</td>\n",
              "      <td>0</td>\n",
              "      <td>0</td>\n",
              "      <td>0</td>\n",
              "      <td>0</td>\n",
              "      <td>1</td>\n",
              "      <td>0</td>\n",
              "      <td>0</td>\n",
              "      <td>0</td>\n",
              "      <td>0</td>\n",
              "      <td>0</td>\n",
              "      <td>0</td>\n",
              "      <td>0</td>\n",
              "      <td>0</td>\n",
              "      <td>0</td>\n",
              "      <td>0</td>\n",
              "      <td>0</td>\n",
              "      <td>0</td>\n",
              "      <td>1</td>\n",
              "      <td>0</td>\n",
              "      <td>0</td>\n",
              "      <td>0</td>\n",
              "      <td>0</td>\n",
              "      <td>0</td>\n",
              "      <td>0</td>\n",
              "    </tr>\n",
              "    <tr>\n",
              "      <th>3</th>\n",
              "      <td>titles01/tt0017925</td>\n",
              "      <td>tt0017925</td>\n",
              "      <td>Der General (1926)</td>\n",
              "      <td>der general</td>\n",
              "      <td>http://www.imdb.com/title/tt0017925/</td>\n",
              "      <td>8.3</td>\n",
              "      <td>37521.0</td>\n",
              "      <td>6420.0</td>\n",
              "      <td>1926.0</td>\n",
              "      <td>video.movie</td>\n",
              "      <td>1</td>\n",
              "      <td>1</td>\n",
              "      <td>53</td>\n",
              "      <td>123</td>\n",
              "      <td>219</td>\n",
              "      <td>3</td>\n",
              "      <td>1</td>\n",
              "      <td>0</td>\n",
              "      <td>1</td>\n",
              "      <td>0</td>\n",
              "      <td>0</td>\n",
              "      <td>1</td>\n",
              "      <td>0</td>\n",
              "      <td>0</td>\n",
              "      <td>0</td>\n",
              "      <td>0</td>\n",
              "      <td>0</td>\n",
              "      <td>0</td>\n",
              "      <td>0</td>\n",
              "      <td>0</td>\n",
              "      <td>0</td>\n",
              "      <td>0</td>\n",
              "      <td>0</td>\n",
              "      <td>0</td>\n",
              "      <td>0</td>\n",
              "      <td>0</td>\n",
              "      <td>0</td>\n",
              "      <td>0</td>\n",
              "      <td>0</td>\n",
              "      <td>0</td>\n",
              "      <td>0</td>\n",
              "      <td>0</td>\n",
              "      <td>0</td>\n",
              "      <td>0</td>\n",
              "    </tr>\n",
              "    <tr>\n",
              "      <th>4</th>\n",
              "      <td>titles01/tt0021749</td>\n",
              "      <td>tt0021749</td>\n",
              "      <td>Lichter der Großstadt (1931)</td>\n",
              "      <td>lichter der gro stadt</td>\n",
              "      <td>http://www.imdb.com/title/tt0021749/</td>\n",
              "      <td>8.7</td>\n",
              "      <td>70057.0</td>\n",
              "      <td>5220.0</td>\n",
              "      <td>1931.0</td>\n",
              "      <td>video.movie</td>\n",
              "      <td>2</td>\n",
              "      <td>0</td>\n",
              "      <td>38</td>\n",
              "      <td>187</td>\n",
              "      <td>186</td>\n",
              "      <td>3</td>\n",
              "      <td>0</td>\n",
              "      <td>0</td>\n",
              "      <td>0</td>\n",
              "      <td>0</td>\n",
              "      <td>0</td>\n",
              "      <td>1</td>\n",
              "      <td>0</td>\n",
              "      <td>0</td>\n",
              "      <td>1</td>\n",
              "      <td>0</td>\n",
              "      <td>0</td>\n",
              "      <td>0</td>\n",
              "      <td>0</td>\n",
              "      <td>0</td>\n",
              "      <td>0</td>\n",
              "      <td>0</td>\n",
              "      <td>0</td>\n",
              "      <td>0</td>\n",
              "      <td>0</td>\n",
              "      <td>0</td>\n",
              "      <td>1</td>\n",
              "      <td>0</td>\n",
              "      <td>0</td>\n",
              "      <td>0</td>\n",
              "      <td>0</td>\n",
              "      <td>0</td>\n",
              "      <td>0</td>\n",
              "      <td>0</td>\n",
              "    </tr>\n",
              "  </tbody>\n",
              "</table>\n",
              "</div>"
            ],
            "text/plain": [
              "                   fn        tid  ... War Western\n",
              "0  titles01/tt0012349  tt0012349  ...   0       0\n",
              "1  titles01/tt0015864  tt0015864  ...   0       0\n",
              "2  titles01/tt0017136  tt0017136  ...   0       0\n",
              "3  titles01/tt0017925  tt0017925  ...   0       0\n",
              "4  titles01/tt0021749  tt0021749  ...   0       0\n",
              "\n",
              "[5 rows x 44 columns]"
            ]
          },
          "metadata": {
            "tags": []
          },
          "execution_count": 83
        }
      ]
    },
    {
      "cell_type": "code",
      "metadata": {
        "id": "OAEX53ueUvK6",
        "colab_type": "code",
        "colab": {
          "base_uri": "https://localhost:8080/",
          "height": 53
        },
        "outputId": "12419056-367c-4d9c-a988-07edfd5a7ba5"
      },
      "source": [
        "# convert df to matrix\n",
        "Data = df.to_numpy()\n",
        "Data[0][16: ]"
      ],
      "execution_count": 84,
      "outputs": [
        {
          "output_type": "execute_result",
          "data": {
            "text/plain": [
              "array([0, 0, 0, 0, 0, 1, 0, 0, 1, 1, 0, 0, 0, 0, 0, 0, 0, 0, 0, 0, 0, 0,\n",
              "       0, 0, 0, 0, 0, 0], dtype=object)"
            ]
          },
          "metadata": {
            "tags": []
          },
          "execution_count": 84
        }
      ]
    },
    {
      "cell_type": "markdown",
      "metadata": {
        "id": "QXiARrH-SwRP",
        "colab_type": "text"
      },
      "source": [
        "# Cosine similairty (based on genre)\n",
        "* Build a similairty matrix for all the movies with every other movie based on genre\n",
        "* Matrix dim : n*n (n= no.of movies)\n",
        "* Used sklearn's built in cosine_sim fucntion\n",
        "* Goal is given a moive **output 10 similar movies based on genre**"
      ]
    },
    {
      "cell_type": "code",
      "metadata": {
        "id": "tZnY0XAzsyAI",
        "colab_type": "code",
        "colab": {}
      },
      "source": [
        "#similairty based on genre\n",
        "n = Data.shape[0]\n",
        "v = [] #matrix storing genre vector of all movies\n",
        "for i in range(0,n):\n",
        "  a = Data[i][16 : ]\n",
        "  a = a.astype(np.float32)\n",
        "  v.append(a)\n",
        "\n"
      ],
      "execution_count": 85,
      "outputs": []
    },
    {
      "cell_type": "code",
      "metadata": {
        "id": "DDP4x8WKpsyg",
        "colab_type": "code",
        "colab": {}
      },
      "source": [
        "movie_indices = pd.Series(df.index, index=df['title'])\n",
        "indices_movies = pd.Series(df['title'])\n",
        "indices_movies"
      ],
      "execution_count": null,
      "outputs": []
    },
    {
      "cell_type": "code",
      "metadata": {
        "id": "c0kL25-rn1iq",
        "colab_type": "code",
        "colab": {
          "base_uri": "https://localhost:8080/",
          "height": 35
        },
        "outputId": "4c8e5b6c-7269-4017-fcb8-a2160f51e780"
      },
      "source": [
        "#sklearn's cosine similairty\n",
        "Cos_sim_mat = cosine_similarity(v,v)\n",
        "Cos_sim_mat.shape\n",
        "\n"
      ],
      "execution_count": 90,
      "outputs": [
        {
          "output_type": "execute_result",
          "data": {
            "text/plain": [
              "(14332, 14332)"
            ]
          },
          "metadata": {
            "tags": []
          },
          "execution_count": 90
        }
      ]
    },
    {
      "cell_type": "code",
      "metadata": {
        "id": "VAa1ME7hpRHj",
        "colab_type": "code",
        "colab": {}
      },
      "source": [
        "#given a movie name find ten similar movies based on genre\n",
        "def sim_movies(name , similar_mat):\n",
        "  id = movie_indices[name]\n",
        "  sim = Cos_sim_mat[id]\n",
        "  #print(id , \" : \" ,sim)\n",
        "  sim1 = list(enumerate(sim))\n",
        "  #print(id , \" : \" ,sim1)\n",
        "  sim_10 = sorted(sim1 , key = lambda x : x[1] , reverse = True)\n",
        "  #print(id , \" : \" ,sim_10)\n",
        "  sim_10 = sim_10[0:11]  #top 10 similarity\n",
        "  #print(id , \" : \" ,sim_10)\n",
        "  top10_ind = [x[0] for x in sim_10  ]\n",
        "  #print(top10_ind)\n",
        "  print(\"Because you watched \", name , \" here are 10 similar moives : \")\n",
        "  j = 0\n",
        "  for i in top10_ind :\n",
        "    if(i!=id) :\n",
        "      j += 1\n",
        "      sim_movie = indices_movies[i]\n",
        "      print(j ,\".\" ,sim_movie) \n",
        "\n"
      ],
      "execution_count": 102,
      "outputs": []
    },
    {
      "cell_type": "code",
      "metadata": {
        "id": "Ou0iPPBSq-kn",
        "colab_type": "code",
        "colab": {
          "base_uri": "https://localhost:8080/",
          "height": 215
        },
        "outputId": "e81efb1a-aa69-40e2-833f-70664cd191c1"
      },
      "source": [
        "movie_name = \"Marvel's The Avengers (2012)\"\n",
        "sim_movies(movie_name ,Cos_sim_mat)"
      ],
      "execution_count": 103,
      "outputs": [
        {
          "output_type": "stream",
          "text": [
            "Because you watched  Marvel's The Avengers (2012)  here are 10 similar moives : \n",
            "1 . Spider-Man (2002)\n",
            "2 . Die Krähe (1994)\n",
            "3 . Batman (1989)\n",
            "4 . Batmans Rückkehr (1992)\n",
            "5 . Spider-Man 2 (2004)\n",
            "6 . Hancock (2008)\n",
            "7 . Hancock 2\n",
            "8 . Die Legende der weissen Schlange (2011)\n",
            "9 . China Swordsman (1992)\n",
            "10 . Exodus: Tales from the Enchanted Kingdom (2005)\n"
          ],
          "name": "stdout"
        }
      ]
    },
    {
      "cell_type": "markdown",
      "metadata": {
        "id": "sruqgR751H4Q",
        "colab_type": "text"
      },
      "source": [
        "#own cosine_sim function --> very very slow takes more than 30 mins"
      ]
    },
    {
      "cell_type": "code",
      "metadata": {
        "id": "qWVq4qLun2O5",
        "colab_type": "code",
        "colab": {}
      },
      "source": [
        "for i in range(0,1000):\n",
        "  Cs = []\n",
        "  a = v[i]\n",
        "  for j in range(0,1000):\n",
        "    b = v[j]\n",
        "    #val = cosine_similarity(a,b)\n",
        "    Cs.append(val)\n",
        "  Cos_sim_mat.append(Cs)\n"
      ],
      "execution_count": null,
      "outputs": []
    },
    {
      "cell_type": "code",
      "metadata": {
        "id": "qCOFEdVeSwCD",
        "colab_type": "code",
        "colab": {}
      },
      "source": [
        "#cos similarity\n",
        "def cosine_sim(a,b):\n",
        "  if (norm(a) == 0)  or (norm(b)== 0) :\n",
        "    val = -1\n",
        "  else :\n",
        "      val = np.dot(a,b) /  (norm(a) * norm(b))\n",
        "  return val"
      ],
      "execution_count": 6,
      "outputs": []
    },
    {
      "cell_type": "code",
      "metadata": {
        "id": "EcWuVgBXXSiH",
        "colab_type": "code",
        "colab": {}
      },
      "source": [
        "Cos_sim_mat = []\n",
        "for i in range(0,n):\n",
        "  Cs = []\n",
        "  a = v[i]\n",
        "  for j in range(0,n):\n",
        "    b = v[j]\n",
        "    val = cosine_sim(a,b)\n",
        "    Cs.append(val)\n",
        "  Cos_sim_mat.append(Cs)\n",
        "\n",
        "\n",
        "  "
      ],
      "execution_count": null,
      "outputs": []
    }
  ]
}