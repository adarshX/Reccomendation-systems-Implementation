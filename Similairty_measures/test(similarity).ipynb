{
  "nbformat": 4,
  "nbformat_minor": 0,
  "metadata": {
    "colab": {
      "name": "test-.ipynb",
      "provenance": []
    },
    "kernelspec": {
      "name": "python3",
      "display_name": "Python 3"
    }
  },
  "cells": [
    {
      "cell_type": "code",
      "metadata": {
        "id": "5DFtM9z_grY8"
      },
      "source": [
        "import numpy as np\n",
        "from numpy.linalg import norm\n",
        "from sklearn.metrics.pairwise import cosine_similarity\n",
        "from sklearn.preprocessing import normalize"
      ],
      "execution_count": 54,
      "outputs": []
    },
    {
      "cell_type": "markdown",
      "metadata": {
        "id": "bvwCynq7phaY"
      },
      "source": [
        "## Data (toy dataset)"
      ]
    },
    {
      "cell_type": "code",
      "metadata": {
        "id": "X3jkUpxugwxr",
        "outputId": "357c9b2d-1dec-4051-d7d3-23259a4e9e10",
        "colab": {
          "base_uri": "https://localhost:8080/",
          "height": 35
        }
      },
      "source": [
        "F = [\n",
        "    [0 , 0 , 1,0,1],\n",
        "    [0 , 0,0, 1, 0],\n",
        "    [1 , 0 , 0 , 0 ,1],\n",
        "    [1,1, 0 , 0 ,  1],\n",
        "    [1 , 1,0,1,0 ],\n",
        "    [0,1,1,0,1],\n",
        "    [0,0,0,1,0]\n",
        "]\n",
        "FM = np.asarray(F)\n",
        "rat = [ 7 , 4 , 10 , 0 , 0 ,  0 , 0]\n",
        "sh = FM.shape\n",
        "sh"
      ],
      "execution_count": 6,
      "outputs": [
        {
          "output_type": "execute_result",
          "data": {
            "text/plain": [
              "(7, 5)"
            ]
          },
          "metadata": {
            "tags": []
          },
          "execution_count": 6
        }
      ]
    },
    {
      "cell_type": "markdown",
      "metadata": {
        "id": "ZoBhiK1mpnFs"
      },
      "source": [
        "## my method"
      ]
    },
    {
      "cell_type": "code",
      "metadata": {
        "id": "oisSLZGAhlUh",
        "outputId": "687cbea0-6203-487b-9a71-7a5a06a65544",
        "colab": {
          "base_uri": "https://localhost:8080/",
          "height": 107
        }
      },
      "source": [
        "sim_mat = np.zeros((sh[0] , sh[0]) , dtype = np.float16)\n",
        "\n",
        "for i in range(0,sh[0]):\n",
        "  for j in range(0,sh[0]):\n",
        "    a = FM[i]\n",
        "    b = FM[j]\n",
        "    sim = np.dot(a,b) / (norm(a) * norm(b))\n",
        "    sim_mat[i][j] = sim\n",
        "\n",
        "#print(sim_mat)\n",
        "#print(\"--------------------------------------------------------\")\n",
        "cos_sim = cosine_similarity(FM,FM) #skelarn\n",
        "#print(cos_sim)\n",
        "\n",
        "sort_sim = np.zeros((sh[0] , sh[0]) , dtype = np.float16)\n",
        "for  i in range(0,sh[0]):\n",
        "  sort_sim[i] = np.argsort(cos_sim[i] , axis = 0)\n",
        "  \n",
        "sort_sim\n",
        "\n",
        "guess_rat = np.zeros((sh[0] , sh[0])  , dtype = np.float16)\n",
        "for  i in range(0,sh[0]):\n",
        "  if rat[i] != 0 :\n",
        "    r = np.zeros((sh[0]))\n",
        "    for j in range(0,sh[0]):\n",
        "      r[j] = rat[i] * cos_sim[i][j]\n",
        "    guess_rat[i] = r\n",
        "    print( i , guess_rat[i])\n",
        "\n",
        "\n",
        "final_rat = np.amax(guess_rat , axis=0)  \n",
        "\n",
        "print(\"\\n finall ratings : \" ,final_rat)"
      ],
      "execution_count": 47,
      "outputs": [
        {
          "output_type": "stream",
          "text": [
            "0 [7.    0.    3.5   2.857 0.    5.715 0.   ]\n",
            "1 [0.    4.    0.    0.    2.309 0.    4.   ]\n",
            "2 [ 5.     0.    10.     8.164  4.082  4.082  0.   ]\n",
            "\n",
            " finall ratings :  [ 7.     4.    10.     8.164  4.082  5.715  4.   ]\n"
          ],
          "name": "stdout"
        }
      ]
    },
    {
      "cell_type": "markdown",
      "metadata": {
        "id": "adikh4aUp1fM"
      },
      "source": [
        "## Other method"
      ]
    },
    {
      "cell_type": "code",
      "metadata": {
        "id": "w1DQV4Lbp3or",
        "outputId": "3d122364-5497-48c9-cc8d-f691f7c7ad8b",
        "colab": {
          "base_uri": "https://localhost:8080/",
          "height": 53
        }
      },
      "source": [
        "feature_sim = np.asarray(np.matmul(rat , FM))\n",
        "print(feature_sim)\n",
        "feature_sim = feature_sim  / norm(feature_sim)\n",
        "feature_sim\n"
      ],
      "execution_count": 64,
      "outputs": [
        {
          "output_type": "stream",
          "text": [
            "[10  0  7  4 17]\n"
          ],
          "name": "stdout"
        },
        {
          "output_type": "execute_result",
          "data": {
            "text/plain": [
              "array([0.46932325, 0.        , 0.32852628, 0.1877293 , 0.79784953])"
            ]
          },
          "metadata": {
            "tags": []
          },
          "execution_count": 64
        }
      ]
    }
  ]
}
